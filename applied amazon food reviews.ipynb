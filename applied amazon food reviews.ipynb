{
 "cells": [
  {
   "cell_type": "code",
   "execution_count": 1,
   "metadata": {},
   "outputs": [],
   "source": [
    "import numpy as np\n",
    "import pandas as pd\n",
    "import seaborn as sns\n",
    "import matplotlib as plt\n",
    "import nltk                                         #Natural language processing tool-kit\n",
    "\n",
    "from nltk.corpus import stopwords                   #Stopwords corpus\n",
    "from nltk.stem import PorterStemmer                 # Stemmer\n",
    "\n",
    "from sklearn.feature_extraction.text import CountVectorizer          #For Bag of words\n",
    "from sklearn.feature_extraction.text import TfidfVectorizer          #For TF-IDF\n",
    "from gensim.models import Word2Vec"
   ]
  },
  {
   "cell_type": "code",
   "execution_count": 2,
   "metadata": {},
   "outputs": [],
   "source": [
    "df=pd.read_csv('C:\\\\Users\\\\krishna\\\\Downloads\\\\Reviews.csv')"
   ]
  },
  {
   "cell_type": "code",
   "execution_count": 3,
   "metadata": {},
   "outputs": [
    {
     "data": {
      "text/html": [
       "<div>\n",
       "<style scoped>\n",
       "    .dataframe tbody tr th:only-of-type {\n",
       "        vertical-align: middle;\n",
       "    }\n",
       "\n",
       "    .dataframe tbody tr th {\n",
       "        vertical-align: top;\n",
       "    }\n",
       "\n",
       "    .dataframe thead th {\n",
       "        text-align: right;\n",
       "    }\n",
       "</style>\n",
       "<table border=\"1\" class=\"dataframe\">\n",
       "  <thead>\n",
       "    <tr style=\"text-align: right;\">\n",
       "      <th></th>\n",
       "      <th>Id</th>\n",
       "      <th>ProductId</th>\n",
       "      <th>UserId</th>\n",
       "      <th>ProfileName</th>\n",
       "      <th>HelpfulnessNumerator</th>\n",
       "      <th>HelpfulnessDenominator</th>\n",
       "      <th>Score</th>\n",
       "      <th>Time</th>\n",
       "      <th>Summary</th>\n",
       "      <th>Text</th>\n",
       "    </tr>\n",
       "  </thead>\n",
       "  <tbody>\n",
       "    <tr>\n",
       "      <th>0</th>\n",
       "      <td>1</td>\n",
       "      <td>B001E4KFG0</td>\n",
       "      <td>A3SGXH7AUHU8GW</td>\n",
       "      <td>delmartian</td>\n",
       "      <td>1</td>\n",
       "      <td>1</td>\n",
       "      <td>5</td>\n",
       "      <td>1303862400</td>\n",
       "      <td>Good Quality Dog Food</td>\n",
       "      <td>I have bought several of the Vitality canned d...</td>\n",
       "    </tr>\n",
       "    <tr>\n",
       "      <th>1</th>\n",
       "      <td>2</td>\n",
       "      <td>B00813GRG4</td>\n",
       "      <td>A1D87F6ZCVE5NK</td>\n",
       "      <td>dll pa</td>\n",
       "      <td>0</td>\n",
       "      <td>0</td>\n",
       "      <td>1</td>\n",
       "      <td>1346976000</td>\n",
       "      <td>Not as Advertised</td>\n",
       "      <td>Product arrived labeled as Jumbo Salted Peanut...</td>\n",
       "    </tr>\n",
       "    <tr>\n",
       "      <th>2</th>\n",
       "      <td>3</td>\n",
       "      <td>B000LQOCH0</td>\n",
       "      <td>ABXLMWJIXXAIN</td>\n",
       "      <td>Natalia Corres \"Natalia Corres\"</td>\n",
       "      <td>1</td>\n",
       "      <td>1</td>\n",
       "      <td>4</td>\n",
       "      <td>1219017600</td>\n",
       "      <td>\"Delight\" says it all</td>\n",
       "      <td>This is a confection that has been around a fe...</td>\n",
       "    </tr>\n",
       "    <tr>\n",
       "      <th>3</th>\n",
       "      <td>4</td>\n",
       "      <td>B000UA0QIQ</td>\n",
       "      <td>A395BORC6FGVXV</td>\n",
       "      <td>Karl</td>\n",
       "      <td>3</td>\n",
       "      <td>3</td>\n",
       "      <td>2</td>\n",
       "      <td>1307923200</td>\n",
       "      <td>Cough Medicine</td>\n",
       "      <td>If you are looking for the secret ingredient i...</td>\n",
       "    </tr>\n",
       "    <tr>\n",
       "      <th>4</th>\n",
       "      <td>5</td>\n",
       "      <td>B006K2ZZ7K</td>\n",
       "      <td>A1UQRSCLF8GW1T</td>\n",
       "      <td>Michael D. Bigham \"M. Wassir\"</td>\n",
       "      <td>0</td>\n",
       "      <td>0</td>\n",
       "      <td>5</td>\n",
       "      <td>1350777600</td>\n",
       "      <td>Great taffy</td>\n",
       "      <td>Great taffy at a great price.  There was a wid...</td>\n",
       "    </tr>\n",
       "  </tbody>\n",
       "</table>\n",
       "</div>"
      ],
      "text/plain": [
       "   Id   ProductId          UserId                      ProfileName  \\\n",
       "0   1  B001E4KFG0  A3SGXH7AUHU8GW                       delmartian   \n",
       "1   2  B00813GRG4  A1D87F6ZCVE5NK                           dll pa   \n",
       "2   3  B000LQOCH0   ABXLMWJIXXAIN  Natalia Corres \"Natalia Corres\"   \n",
       "3   4  B000UA0QIQ  A395BORC6FGVXV                             Karl   \n",
       "4   5  B006K2ZZ7K  A1UQRSCLF8GW1T    Michael D. Bigham \"M. Wassir\"   \n",
       "\n",
       "   HelpfulnessNumerator  HelpfulnessDenominator  Score        Time  \\\n",
       "0                     1                       1      5  1303862400   \n",
       "1                     0                       0      1  1346976000   \n",
       "2                     1                       1      4  1219017600   \n",
       "3                     3                       3      2  1307923200   \n",
       "4                     0                       0      5  1350777600   \n",
       "\n",
       "                 Summary                                               Text  \n",
       "0  Good Quality Dog Food  I have bought several of the Vitality canned d...  \n",
       "1      Not as Advertised  Product arrived labeled as Jumbo Salted Peanut...  \n",
       "2  \"Delight\" says it all  This is a confection that has been around a fe...  \n",
       "3         Cough Medicine  If you are looking for the secret ingredient i...  \n",
       "4            Great taffy  Great taffy at a great price.  There was a wid...  "
      ]
     },
     "execution_count": 3,
     "metadata": {},
     "output_type": "execute_result"
    }
   ],
   "source": [
    "df.head()"
   ]
  },
  {
   "cell_type": "code",
   "execution_count": 4,
   "metadata": {},
   "outputs": [
    {
     "data": {
      "text/plain": [
       "(568454, 10)"
      ]
     },
     "execution_count": 4,
     "metadata": {},
     "output_type": "execute_result"
    }
   ],
   "source": [
    "df.shape"
   ]
  },
  {
   "cell_type": "code",
   "execution_count": 5,
   "metadata": {},
   "outputs": [
    {
     "data": {
      "text/plain": [
       "<matplotlib.axes._subplots.AxesSubplot at 0x1908575fd30>"
      ]
     },
     "execution_count": 5,
     "metadata": {},
     "output_type": "execute_result"
    },
    {
     "data": {
      "image/png": "[encoded data removed]",
      "text/plain": [
       "<Figure size 432x288 with 1 Axes>"
      ]
     },
     "metadata": {
      "needs_background": "light"
     },
     "output_type": "display_data"
    }
   ],
   "source": [
    "sns.countplot(df['Score'])"
   ]
  },
  {
   "cell_type": "code",
   "execution_count": 6,
   "metadata": {},
   "outputs": [],
   "source": [
    "\n",
    "# Give reviews with Score>3 a positive rating, and reviews with a score<3 a negative rating.\n",
    "def partition(x):\n",
    "    if x < 3:\n",
    "        return 0\n",
    "    return 1"
   ]
  },
  {
   "cell_type": "code",
   "execution_count": 7,
   "metadata": {},
   "outputs": [
    {
     "name": "stdout",
     "output_type": "stream",
     "text": [
      "Number of data points in our data (568454, 10)\n"
     ]
    },
    {
     "data": {
      "text/html": [
       "<div>\n",
       "<style scoped>\n",
       "    .dataframe tbody tr th:only-of-type {\n",
       "        vertical-align: middle;\n",
       "    }\n",
       "\n",
       "    .dataframe tbody tr th {\n",
       "        vertical-align: top;\n",
       "    }\n",
       "\n",
       "    .dataframe thead th {\n",
       "        text-align: right;\n",
       "    }\n",
       "</style>\n",
       "<table border=\"1\" class=\"dataframe\">\n",
       "  <thead>\n",
       "    <tr style=\"text-align: right;\">\n",
       "      <th></th>\n",
       "      <th>Id</th>\n",
       "      <th>ProductId</th>\n",
       "      <th>UserId</th>\n",
       "      <th>ProfileName</th>\n",
       "      <th>HelpfulnessNumerator</th>\n",
       "      <th>HelpfulnessDenominator</th>\n",
       "      <th>Score</th>\n",
       "      <th>Time</th>\n",
       "      <th>Summary</th>\n",
       "      <th>Text</th>\n",
       "    </tr>\n",
       "  </thead>\n",
       "  <tbody>\n",
       "    <tr>\n",
       "      <th>0</th>\n",
       "      <td>1</td>\n",
       "      <td>B001E4KFG0</td>\n",
       "      <td>A3SGXH7AUHU8GW</td>\n",
       "      <td>delmartian</td>\n",
       "      <td>1</td>\n",
       "      <td>1</td>\n",
       "      <td>1</td>\n",
       "      <td>1303862400</td>\n",
       "      <td>Good Quality Dog Food</td>\n",
       "      <td>I have bought several of the Vitality canned d...</td>\n",
       "    </tr>\n",
       "    <tr>\n",
       "      <th>1</th>\n",
       "      <td>2</td>\n",
       "      <td>B00813GRG4</td>\n",
       "      <td>A1D87F6ZCVE5NK</td>\n",
       "      <td>dll pa</td>\n",
       "      <td>0</td>\n",
       "      <td>0</td>\n",
       "      <td>0</td>\n",
       "      <td>1346976000</td>\n",
       "      <td>Not as Advertised</td>\n",
       "      <td>Product arrived labeled as Jumbo Salted Peanut...</td>\n",
       "    </tr>\n",
       "    <tr>\n",
       "      <th>2</th>\n",
       "      <td>3</td>\n",
       "      <td>B000LQOCH0</td>\n",
       "      <td>ABXLMWJIXXAIN</td>\n",
       "      <td>Natalia Corres \"Natalia Corres\"</td>\n",
       "      <td>1</td>\n",
       "      <td>1</td>\n",
       "      <td>1</td>\n",
       "      <td>1219017600</td>\n",
       "      <td>\"Delight\" says it all</td>\n",
       "      <td>This is a confection that has been around a fe...</td>\n",
       "    </tr>\n",
       "  </tbody>\n",
       "</table>\n",
       "</div>"
      ],
      "text/plain": [
       "   Id   ProductId          UserId                      ProfileName  \\\n",
       "0   1  B001E4KFG0  A3SGXH7AUHU8GW                       delmartian   \n",
       "1   2  B00813GRG4  A1D87F6ZCVE5NK                           dll pa   \n",
       "2   3  B000LQOCH0   ABXLMWJIXXAIN  Natalia Corres \"Natalia Corres\"   \n",
       "\n",
       "   HelpfulnessNumerator  HelpfulnessDenominator  Score        Time  \\\n",
       "0                     1                       1      1  1303862400   \n",
       "1                     0                       0      0  1346976000   \n",
       "2                     1                       1      1  1219017600   \n",
       "\n",
       "                 Summary                                               Text  \n",
       "0  Good Quality Dog Food  I have bought several of the Vitality canned d...  \n",
       "1      Not as Advertised  Product arrived labeled as Jumbo Salted Peanut...  \n",
       "2  \"Delight\" says it all  This is a confection that has been around a fe...  "
      ]
     },
     "execution_count": 7,
     "metadata": {},
     "output_type": "execute_result"
    }
   ],
   "source": [
    "#changing reviews with score less than 3 to be negative and vice-versa\n",
    "actualScore = df['Score']\n",
    "positiveNegative = actualScore.map(partition) \n",
    "df['Score'] = positiveNegative\n",
    "print(\"Number of data points in our data\", df.shape)\n",
    "df.head(3)"
   ]
  },
  {
   "cell_type": "code",
   "execution_count": 8,
   "metadata": {},
   "outputs": [],
   "source": [
    "df1=df.head(10000)"
   ]
  },
  {
   "cell_type": "code",
   "execution_count": 9,
   "metadata": {},
   "outputs": [],
   "source": [
    "df2=df1.drop_duplicates(subset=['Id','ProductId','ProfileName','Time','Score','Text'])"
   ]
  },
  {
   "cell_type": "code",
   "execution_count": 10,
   "metadata": {},
   "outputs": [
    {
     "data": {
      "text/html": [
       "<div>\n",
       "<style scoped>\n",
       "    .dataframe tbody tr th:only-of-type {\n",
       "        vertical-align: middle;\n",
       "    }\n",
       "\n",
       "    .dataframe tbody tr th {\n",
       "        vertical-align: top;\n",
       "    }\n",
       "\n",
       "    .dataframe thead th {\n",
       "        text-align: right;\n",
       "    }\n",
       "</style>\n",
       "<table border=\"1\" class=\"dataframe\">\n",
       "  <thead>\n",
       "    <tr style=\"text-align: right;\">\n",
       "      <th></th>\n",
       "      <th>Id</th>\n",
       "      <th>ProductId</th>\n",
       "      <th>UserId</th>\n",
       "      <th>ProfileName</th>\n",
       "      <th>HelpfulnessNumerator</th>\n",
       "      <th>HelpfulnessDenominator</th>\n",
       "      <th>Score</th>\n",
       "      <th>Time</th>\n",
       "      <th>Summary</th>\n",
       "      <th>Text</th>\n",
       "    </tr>\n",
       "  </thead>\n",
       "  <tbody>\n",
       "    <tr>\n",
       "      <th>0</th>\n",
       "      <td>1</td>\n",
       "      <td>B001E4KFG0</td>\n",
       "      <td>A3SGXH7AUHU8GW</td>\n",
       "      <td>delmartian</td>\n",
       "      <td>1</td>\n",
       "      <td>1</td>\n",
       "      <td>1</td>\n",
       "      <td>1303862400</td>\n",
       "      <td>Good Quality Dog Food</td>\n",
       "      <td>I have bought several of the Vitality canned d...</td>\n",
       "    </tr>\n",
       "    <tr>\n",
       "      <th>1</th>\n",
       "      <td>2</td>\n",
       "      <td>B00813GRG4</td>\n",
       "      <td>A1D87F6ZCVE5NK</td>\n",
       "      <td>dll pa</td>\n",
       "      <td>0</td>\n",
       "      <td>0</td>\n",
       "      <td>0</td>\n",
       "      <td>1346976000</td>\n",
       "      <td>Not as Advertised</td>\n",
       "      <td>Product arrived labeled as Jumbo Salted Peanut...</td>\n",
       "    </tr>\n",
       "    <tr>\n",
       "      <th>2</th>\n",
       "      <td>3</td>\n",
       "      <td>B000LQOCH0</td>\n",
       "      <td>ABXLMWJIXXAIN</td>\n",
       "      <td>Natalia Corres \"Natalia Corres\"</td>\n",
       "      <td>1</td>\n",
       "      <td>1</td>\n",
       "      <td>1</td>\n",
       "      <td>1219017600</td>\n",
       "      <td>\"Delight\" says it all</td>\n",
       "      <td>This is a confection that has been around a fe...</td>\n",
       "    </tr>\n",
       "    <tr>\n",
       "      <th>3</th>\n",
       "      <td>4</td>\n",
       "      <td>B000UA0QIQ</td>\n",
       "      <td>A395BORC6FGVXV</td>\n",
       "      <td>Karl</td>\n",
       "      <td>3</td>\n",
       "      <td>3</td>\n",
       "      <td>0</td>\n",
       "      <td>1307923200</td>\n",
       "      <td>Cough Medicine</td>\n",
       "      <td>If you are looking for the secret ingredient i...</td>\n",
       "    </tr>\n",
       "    <tr>\n",
       "      <th>4</th>\n",
       "      <td>5</td>\n",
       "      <td>B006K2ZZ7K</td>\n",
       "      <td>A1UQRSCLF8GW1T</td>\n",
       "      <td>Michael D. Bigham \"M. Wassir\"</td>\n",
       "      <td>0</td>\n",
       "      <td>0</td>\n",
       "      <td>1</td>\n",
       "      <td>1350777600</td>\n",
       "      <td>Great taffy</td>\n",
       "      <td>Great taffy at a great price.  There was a wid...</td>\n",
       "    </tr>\n",
       "  </tbody>\n",
       "</table>\n",
       "</div>"
      ],
      "text/plain": [
       "   Id   ProductId          UserId                      ProfileName  \\\n",
       "0   1  B001E4KFG0  A3SGXH7AUHU8GW                       delmartian   \n",
       "1   2  B00813GRG4  A1D87F6ZCVE5NK                           dll pa   \n",
       "2   3  B000LQOCH0   ABXLMWJIXXAIN  Natalia Corres \"Natalia Corres\"   \n",
       "3   4  B000UA0QIQ  A395BORC6FGVXV                             Karl   \n",
       "4   5  B006K2ZZ7K  A1UQRSCLF8GW1T    Michael D. Bigham \"M. Wassir\"   \n",
       "\n",
       "   HelpfulnessNumerator  HelpfulnessDenominator  Score        Time  \\\n",
       "0                     1                       1      1  1303862400   \n",
       "1                     0                       0      0  1346976000   \n",
       "2                     1                       1      1  1219017600   \n",
       "3                     3                       3      0  1307923200   \n",
       "4                     0                       0      1  1350777600   \n",
       "\n",
       "                 Summary                                               Text  \n",
       "0  Good Quality Dog Food  I have bought several of the Vitality canned d...  \n",
       "1      Not as Advertised  Product arrived labeled as Jumbo Salted Peanut...  \n",
       "2  \"Delight\" says it all  This is a confection that has been around a fe...  \n",
       "3         Cough Medicine  If you are looking for the secret ingredient i...  \n",
       "4            Great taffy  Great taffy at a great price.  There was a wid...  "
      ]
     },
     "execution_count": 10,
     "metadata": {},
     "output_type": "execute_result"
    }
   ],
   "source": [
    "df2.head()"
   ]
  },
  {
   "cell_type": "code",
   "execution_count": 11,
   "metadata": {},
   "outputs": [
    {
     "data": {
      "text/plain": [
       "(10000, 10)"
      ]
     },
     "execution_count": 11,
     "metadata": {},
     "output_type": "execute_result"
    }
   ],
   "source": [
    "df2.shape"
   ]
  },
  {
   "cell_type": "code",
   "execution_count": 12,
   "metadata": {},
   "outputs": [],
   "source": [
    "df3=df2[df2['HelpfulnessNumerator']<=df2['HelpfulnessDenominator']]"
   ]
  },
  {
   "cell_type": "code",
   "execution_count": 13,
   "metadata": {},
   "outputs": [
    {
     "data": {
      "text/plain": [
       "1    8478\n",
       "0    1522\n",
       "Name: Score, dtype: int64"
      ]
     },
     "execution_count": 13,
     "metadata": {},
     "output_type": "execute_result"
    }
   ],
   "source": [
    "df3['Score'].value_counts()"
   ]
  },
  {
   "cell_type": "markdown",
   "metadata": {},
   "source": [
    "# text preprocessing"
   ]
  },
  {
   "cell_type": "code",
   "execution_count": 14,
   "metadata": {},
   "outputs": [],
   "source": [
    "df_X = df3['Text']\n",
    "df_y = df3['Score']"
   ]
  },
  {
   "cell_type": "code",
   "execution_count": 15,
   "metadata": {},
   "outputs": [
    {
     "name": "stdout",
     "output_type": "stream",
     "text": [
      "{\"shan't\", 'doesn', 'hadn', \"you'll\", 'o', \"didn't\", 'than', 'has', 'shouldn', 'because', 'couldn', 'didn', 'further', 'm', 'this', 'he', 'theirs', 'am', 'from', 't', 'some', \"you've\", 'between', 'we', 'him', 'do', 'ourselves', 'down', 'how', 'through', 'on', 'such', 'these', 'both', 'have', \"weren't\", 'his', 'in', 'above', 'itself', 'which', 'isn', 'very', 'they', 'doing', 'd', \"don't\", 'what', 'are', 'a', \"doesn't\", 'during', 'only', 'wasn', 'whom', 'and', 'against', 'below', 'all', 'if', 'other', 'each', \"mightn't\", 'our', 'any', 'that', \"shouldn't\", 'needn', 'its', 've', 'hers', 'until', 'be', 'having', 'wouldn', 'why', 'up', 'under', 'she', \"hadn't\", 'will', 'over', 'but', 'same', 'while', 'mustn', 'them', 'once', 's', 'my', 'don', 'of', 'i', 'those', 'y', 'herself', 'who', 'again', 'most', 'nor', 'themselves', \"should've\", \"it's\", \"wasn't\", \"you're\", 'does', 'own', 'hasn', 'their', 'should', 'aren', 'ain', 'by', \"couldn't\", 'had', 'before', 'your', \"won't\", 'no', 'yours', 'or', 'won', 'did', 'shan', 'yourself', \"mustn't\", 'were', 'himself', 'me', 'being', 'at', 'more', 'where', 'off', 'was', 'her', 'ours', \"you'd\", 'to', \"wouldn't\", 'just', 'haven', \"hasn't\", 'with', 'for', 'when', 'an', 'out', 'few', 'now', 'yourselves', 'here', \"she's\", 'into', 'it', 'too', 'after', 'about', 'can', 'been', 'there', 'then', \"haven't\", \"needn't\", 're', 'ma', 'the', 'as', 'so', \"that'll\", 'mightn', 'is', \"aren't\", \"isn't\", 'weren', 'not', 'myself', 'you', 'll'}\n"
     ]
    }
   ],
   "source": [
    "stop = set(stopwords.words('english')) \n",
    "print(stop)"
   ]
  },
  {
   "cell_type": "code",
   "execution_count": 16,
   "metadata": {},
   "outputs": [],
   "source": [
    "import re"
   ]
  },
  {
   "cell_type": "markdown",
   "metadata": {},
   "source": [
    "# BAG OF WORDS"
   ]
  },
  {
   "cell_type": "code",
   "execution_count": 17,
   "metadata": {},
   "outputs": [],
   "source": [
    "temp =[]\n",
    "snow = nltk.stem.SnowballStemmer('english')\n",
    "for sentence in df_X:\n",
    "    sentence = sentence.lower()   \n",
    "    #convertinging to lowercase\n",
    "    cleanr = re.compile('<.*?>')\n",
    "    sentence = re.sub(cleanr, ' ', sentence)        #Removing HTML tags\n",
    "    sentence = re.sub(r'[?|!|\\'|\"|#]',r'',sentence)\n",
    "    sentence = re.sub(r'[.|,|)|(|\\|/]',r' ',sentence)        #Removing Punctuations\n",
    "    \n",
    "    words = [snow.stem(word) for word in sentence.split() if word not in stopwords.words('english')]   # Stemming and removing stopwords\n",
    "    temp.append(words)\n",
    "    \n",
    "df_X = temp    "
   ]
  },
  {
   "cell_type": "code",
   "execution_count": 18,
   "metadata": {},
   "outputs": [
    {
     "name": "stdout",
     "output_type": "stream",
     "text": [
      "['product', 'arriv', 'label', 'jumbo', 'salt', 'peanut', 'peanut', 'actual', 'small', 'size', 'unsalt', 'sure', 'error', 'vendor', 'intend', 'repres', 'product', 'jumbo']\n"
     ]
    }
   ],
   "source": [
    "print(df_X[1])"
   ]
  },
  {
   "cell_type": "code",
   "execution_count": 19,
   "metadata": {},
   "outputs": [
    {
     "name": "stdout",
     "output_type": "stream",
     "text": [
      " product arriv label jumbo salt peanut peanut actual small size unsalt sure error vendor intend repres product jumbo\n"
     ]
    }
   ],
   "source": [
    "sent = []\n",
    "for row in df_X:\n",
    "    sequ = ''\n",
    "    for word in row:\n",
    "        sequ = sequ + ' ' + word\n",
    "    sent.append(sequ)\n",
    "\n",
    "df_X = sent\n",
    "print(df_X[1])"
   ]
  },
  {
   "cell_type": "markdown",
   "metadata": {},
   "source": [
    "# BINARY BAG OF WORDS"
   ]
  },
  {
   "cell_type": "code",
   "execution_count": 20,
   "metadata": {},
   "outputs": [
    {
     "name": "stdout",
     "output_type": "stream",
     "text": [
      "  (0, 3651)\t1\n",
      "  (0, 2340)\t1\n",
      "  (0, 4730)\t1\n",
      "  (0, 1538)\t1\n",
      "  (0, 4315)\t1\n",
      "  (0, 4672)\t1\n",
      "  (0, 3984)\t1\n",
      "  (0, 4021)\t1\n",
      "  (0, 164)\t1\n",
      "  (0, 3228)\t2\n",
      "  (0, 3779)\t1\n",
      "  (0, 2429)\t2\n",
      "  (0, 2498)\t1\n",
      "  (0, 333)\t1\n",
      "  (0, 3441)\t2\n"
     ]
    }
   ],
   "source": [
    "count_vect = CountVectorizer(max_features=5000)\n",
    "bow_data = count_vect.fit_transform(df_X)\n",
    "print(bow_data[1])"
   ]
  },
  {
   "cell_type": "markdown",
   "metadata": {},
   "source": [
    "# BI-GRAM BOW"
   ]
  },
  {
   "cell_type": "code",
   "execution_count": 21,
   "metadata": {},
   "outputs": [],
   "source": [
    "df_B_X = df_X"
   ]
  },
  {
   "cell_type": "code",
   "execution_count": 22,
   "metadata": {},
   "outputs": [
    {
     "name": "stdout",
     "output_type": "stream",
     "text": [
      "  (0, 155132)\t1\n",
      "  (0, 164349)\t1\n",
      "  (0, 102952)\t1\n",
      "  (0, 213144)\t1\n",
      "  (0, 66027)\t1\n",
      "  (0, 192054)\t1\n",
      "  (0, 209826)\t1\n",
      "  (0, 178486)\t1\n",
      "  (0, 179474)\t1\n",
      "  (0, 4431)\t1\n",
      "  (0, 145033)\t1\n",
      "  (0, 145079)\t1\n",
      "  (0, 169020)\t1\n",
      "  (0, 105996)\t1\n",
      "  (0, 108824)\t1\n",
      "  (0, 12959)\t1\n",
      "  (0, 154737)\t1\n",
      "  (0, 164341)\t1\n",
      "  (0, 102936)\t1\n",
      "  (0, 213127)\t1\n",
      "  (0, 66013)\t1\n",
      "  (0, 191974)\t1\n",
      "  (0, 209817)\t1\n",
      "  (0, 178220)\t1\n",
      "  (0, 179252)\t1\n",
      "  (0, 4224)\t1\n",
      "  (0, 145032)\t2\n",
      "  (0, 168871)\t1\n",
      "  (0, 105990)\t2\n",
      "  (0, 108757)\t1\n",
      "  (0, 12876)\t1\n",
      "  (0, 154681)\t2\n"
     ]
    }
   ],
   "source": [
    "count_vect = CountVectorizer(ngram_range=(1,2))\n",
    "Bigram_data = count_vect.fit_transform(df_B_X)\n",
    "print(Bigram_data[1])"
   ]
  },
  {
   "cell_type": "markdown",
   "metadata": {},
   "source": [
    "# TF-IDF"
   ]
  },
  {
   "cell_type": "code",
   "execution_count": 23,
   "metadata": {},
   "outputs": [
    {
     "name": "stdout",
     "output_type": "stream",
     "text": [
      "  (0, 3441)\t0.18202403814257867\n",
      "  (0, 333)\t0.15673405699699108\n",
      "  (0, 2498)\t0.18332702337658963\n",
      "  (0, 2429)\t0.5721373890087614\n",
      "  (0, 3779)\t0.15408086526397632\n",
      "  (0, 3228)\t0.37467426339124205\n",
      "  (0, 164)\t0.14625267770919553\n",
      "  (0, 4021)\t0.14539428502791302\n",
      "  (0, 3984)\t0.14547147340823857\n",
      "  (0, 4672)\t0.27294106253378553\n",
      "  (0, 4315)\t0.1419427154646107\n",
      "  (0, 1538)\t0.2702954366823277\n",
      "  (0, 4730)\t0.22144851953773764\n",
      "  (0, 2340)\t0.24959614137557432\n",
      "  (0, 3651)\t0.27294106253378553\n"
     ]
    }
   ],
   "source": [
    "df_tf = df_X\n",
    "tf_idf = TfidfVectorizer(max_features=5000)\n",
    "tf_data = tf_idf.fit_transform(df_tf)\n",
    "print(tf_data[1])"
   ]
  },
  {
   "cell_type": "markdown",
   "metadata": {},
   "source": [
    "# Word2Vec"
   ]
  },
  {
   "cell_type": "code",
   "execution_count": 24,
   "metadata": {},
   "outputs": [],
   "source": [
    "w2v_data = df_X"
   ]
  },
  {
   "cell_type": "code",
   "execution_count": 25,
   "metadata": {},
   "outputs": [],
   "source": [
    "splitted = []\n",
    "for row in w2v_data: \n",
    "    splitted.append([word for word in row.split()])     #splitting words"
   ]
  },
  {
   "cell_type": "code",
   "execution_count": 26,
   "metadata": {},
   "outputs": [],
   "source": [
    "train_w2v = Word2Vec(splitted,min_count=5,size=50, workers=4)"
   ]
  },
  {
   "cell_type": "code",
   "execution_count": 27,
   "metadata": {},
   "outputs": [
    {
     "name": "stderr",
     "output_type": "stream",
     "text": [
      "C:\\ProgramData\\Anaconda3\\lib\\site-packages\\ipykernel_launcher.py:7: DeprecationWarning: Call to deprecated `__getitem__` (Method will be removed in 4.0.0, use self.wv.__getitem__() instead).\n",
      "  import sys\n"
     ]
    }
   ],
   "source": [
    "avg_data = []\n",
    "for row in splitted:\n",
    "    vec = np.zeros(50)\n",
    "    count = 0\n",
    "    for word in row:\n",
    "        try:\n",
    "            vec += train_w2v[word]\n",
    "            count += 1\n",
    "        except:\n",
    "            pass\n",
    "    avg_data.append(vec/count)\n",
    "    "
   ]
  },
  {
   "cell_type": "code",
   "execution_count": 28,
   "metadata": {},
   "outputs": [
    {
     "name": "stdout",
     "output_type": "stream",
     "text": [
      "[ 0.20866474 -0.04804418  0.33953007 -0.16589438 -0.67706675 -0.22344004\n",
      "  0.10531413  0.21572179  0.44418034 -0.37828587 -0.33229139 -0.52005218\n",
      "  0.0700564  -0.53940408  0.49824321 -0.028892   -0.21142907 -0.3126281\n",
      " -0.11368512 -0.42777478  0.27552921 -0.29041104  0.14805121  0.11626285\n",
      "  0.24275787 -0.2444412   0.09210719 -0.39878657 -0.03763622 -0.00799167\n",
      "  0.08234614 -0.08339     0.41415728 -0.10981268 -0.45579088 -0.38102163\n",
      "  0.00604516 -0.45521933  0.55935653 -0.22000632  0.17639184  0.19813541\n",
      "  0.34846662  0.19316549 -0.0219252  -0.13574463  0.0985726  -0.06597723\n",
      " -0.16895053 -0.11417216]\n"
     ]
    }
   ],
   "source": [
    "print(avg_data[1])"
   ]
  },
  {
   "cell_type": "markdown",
   "metadata": {},
   "source": [
    "# TF-IDF WORD2VEC"
   ]
  },
  {
   "cell_type": "code",
   "execution_count": 29,
   "metadata": {},
   "outputs": [],
   "source": [
    "tf_w_data = df_X\n",
    "tf_idf = TfidfVectorizer(max_features=5000)\n",
    "tf_idf_data = tf_idf.fit_transform(tf_w_data)"
   ]
  },
  {
   "cell_type": "code",
   "execution_count": 30,
   "metadata": {},
   "outputs": [
    {
     "name": "stderr",
     "output_type": "stream",
     "text": [
      "C:\\ProgramData\\Anaconda3\\lib\\site-packages\\ipykernel_launcher.py:18: DeprecationWarning: Call to deprecated `__getitem__` (Method will be removed in 4.0.0, use self.wv.__getitem__() instead).\n"
     ]
    },
    {
     "name": "stdout",
     "output_type": "stream",
     "text": [
      "[ 0.2975844   0.21111186  0.57845095 -0.20743652 -0.62389627 -0.57621096\n",
      " -0.01946516  0.21944995  0.5923039  -0.45637568 -0.43860161 -0.56667612\n",
      "  0.04603565 -0.47870589  0.44056394 -0.01094492 -0.16896692 -0.26091195\n",
      "  0.01596791 -0.75692239  0.31792831 -0.42898294  0.31024709 -0.00394529\n",
      "  0.24000925 -0.17044874  0.36393781 -0.2452906   0.05960905 -0.17497073\n",
      "  0.00486757  0.03416036  0.62224513 -0.08011683 -0.40631101 -0.56340927\n",
      "  0.12332889 -0.53438875  0.57580776 -0.24328007  0.22807461 -0.10656332\n",
      "  0.60506827  0.33586708 -0.18487633 -0.08919621  0.17831639 -0.13048696\n",
      " -0.15969985 -0.18222192]\n"
     ]
    }
   ],
   "source": [
    "tf_w_data = []\n",
    "tf_idf_data = tf_idf_data.toarray()\n",
    "i = 0\n",
    "for row in splitted:\n",
    "    vec = [0 for i in range(50)]\n",
    "    \n",
    "    temp_tfidf = []\n",
    "    for val in tf_idf_data[i]:\n",
    "        if val != 0:\n",
    "            temp_tfidf.append(val)\n",
    "    \n",
    "    count = 0\n",
    "    tf_idf_sum = 0\n",
    "    for word in row:\n",
    "        try:\n",
    "            count += 1\n",
    "            tf_idf_sum = tf_idf_sum + temp_tfidf[count-1]\n",
    "            vec += (temp_tfidf[count-1] * train_w2v[word])\n",
    "        except:\n",
    "            pass\n",
    "    vec = (float)(1/tf_idf_sum) * vec\n",
    "    tf_w_data.append(vec)\n",
    "    i = i + 1\n",
    "\n",
    "print(tf_w_data[1])\n",
    "    "
   ]
  },
  {
   "cell_type": "markdown",
   "metadata": {},
   "source": [
    "# Sentiment Analysis"
   ]
  },
  {
   "cell_type": "code",
   "execution_count": 31,
   "metadata": {},
   "outputs": [],
   "source": [
    "from sklearn.model_selection import train_test_split"
   ]
  },
  {
   "cell_type": "code",
   "execution_count": 32,
   "metadata": {},
   "outputs": [],
   "source": [
    "\n",
    "# Split data into training and test sets\n",
    "X_train, X_test, y_train, y_test = train_test_split(df2['Summary'], \n",
    "                                                    df2['Score'], \n",
    "                                                    random_state=0)"
   ]
  },
  {
   "cell_type": "code",
   "execution_count": 33,
   "metadata": {},
   "outputs": [
    {
     "name": "stdout",
     "output_type": "stream",
     "text": [
      "X_train first entry:\n",
      "\n",
      " contains MSG\n",
      "\n",
      "\n",
      "X_train shape:  (7500,)\n"
     ]
    }
   ],
   "source": [
    "print('X_train first entry:\\n\\n', X_train.iloc[0])\n",
    "print('\\n\\nX_train shape: ', X_train.shape)"
   ]
  },
  {
   "cell_type": "code",
   "execution_count": 34,
   "metadata": {},
   "outputs": [],
   "source": [
    "from sklearn.feature_extraction.text import CountVectorizer\n",
    "\n",
    "# Fit the CountVectorizer to the training data\n",
    "vect = CountVectorizer().fit(X_train)"
   ]
  },
  {
   "cell_type": "code",
   "execution_count": 35,
   "metadata": {},
   "outputs": [
    {
     "data": {
      "text/plain": [
       "['00',\n",
       " 'approved',\n",
       " 'bolder',\n",
       " 'charges',\n",
       " 'cornmeal',\n",
       " 'digestive',\n",
       " 'exercise',\n",
       " 'fry',\n",
       " 'haven',\n",
       " 'italy',\n",
       " 'liver',\n",
       " 'mm',\n",
       " 'onions',\n",
       " 'plated',\n",
       " 'receiving',\n",
       " 'seasoned',\n",
       " 'sound',\n",
       " 'target',\n",
       " 'twisted',\n",
       " 'wife']"
      ]
     },
     "execution_count": 35,
     "metadata": {},
     "output_type": "execute_result"
    }
   ],
   "source": [
    "vect.get_feature_names()[::200]"
   ]
  },
  {
   "cell_type": "code",
   "execution_count": 36,
   "metadata": {},
   "outputs": [
    {
     "data": {
      "text/plain": [
       "3921"
      ]
     },
     "execution_count": 36,
     "metadata": {},
     "output_type": "execute_result"
    }
   ],
   "source": [
    "len(vect.get_feature_names())"
   ]
  },
  {
   "cell_type": "code",
   "execution_count": 37,
   "metadata": {},
   "outputs": [
    {
     "data": {
      "text/plain": [
       "<7500x3921 sparse matrix of type '<class 'numpy.int64'>'\n",
       "\twith 28986 stored elements in Compressed Sparse Row format>"
      ]
     },
     "execution_count": 37,
     "metadata": {},
     "output_type": "execute_result"
    }
   ],
   "source": [
    "# transform the documents in the training data to a document-term matrix\n",
    "X_train_vectorized = vect.transform(X_train)\n",
    "\n",
    "X_train_vectorized"
   ]
  },
  {
   "cell_type": "code",
   "execution_count": 38,
   "metadata": {},
   "outputs": [
    {
     "name": "stderr",
     "output_type": "stream",
     "text": [
      "C:\\ProgramData\\Anaconda3\\lib\\site-packages\\sklearn\\linear_model\\logistic.py:432: FutureWarning: Default solver will be changed to 'lbfgs' in 0.22. Specify a solver to silence this warning.\n",
      "  FutureWarning)\n"
     ]
    },
    {
     "data": {
      "text/plain": [
       "LogisticRegression(C=1.0, class_weight=None, dual=False, fit_intercept=True,\n",
       "                   intercept_scaling=1, l1_ratio=None, max_iter=100,\n",
       "                   multi_class='warn', n_jobs=None, penalty='l2',\n",
       "                   random_state=None, solver='warn', tol=0.0001, verbose=0,\n",
       "                   warm_start=False)"
      ]
     },
     "execution_count": 38,
     "metadata": {},
     "output_type": "execute_result"
    }
   ],
   "source": [
    "from sklearn.linear_model import LogisticRegression\n",
    "\n",
    "# Train the model\n",
    "model = LogisticRegression()\n",
    "model.fit(X_train_vectorized, y_train)"
   ]
  },
  {
   "cell_type": "code",
   "execution_count": 39,
   "metadata": {},
   "outputs": [],
   "source": [
    "from sklearn import metrics"
   ]
  },
  {
   "cell_type": "code",
   "execution_count": 40,
   "metadata": {},
   "outputs": [
    {
     "name": "stdout",
     "output_type": "stream",
     "text": [
      "AUC:  0.6828238587065749\n"
     ]
    }
   ],
   "source": [
    "from sklearn.metrics import roc_auc_score\n",
    "\n",
    "# Predict the transformed test documents\n",
    "predictions = model.predict(vect.transform(X_test))\n",
    "\n",
    "print('AUC: ', roc_auc_score(y_test, predictions))"
   ]
  },
  {
   "cell_type": "code",
   "execution_count": 41,
   "metadata": {},
   "outputs": [
    {
     "name": "stdout",
     "output_type": "stream",
     "text": [
      "accuracy_score     0.884400\n",
      "precision_score    0.897603\n",
      "recall_score       0.974456\n",
      "f1_score           0.934452\n",
      "dtype: float64\n",
      "\n",
      "              precision    recall  f1-score   support\n",
      "\n",
      "           0       0.74      0.39      0.51       386\n",
      "           1       0.90      0.97      0.93      2114\n",
      "\n",
      "    accuracy                           0.88      2500\n",
      "   macro avg       0.82      0.68      0.72      2500\n",
      "weighted avg       0.87      0.88      0.87      2500\n",
      "\n",
      "\n",
      "Confusion Matrix:\n",
      "[[ 151  235]\n",
      " [  54 2060]]\n"
     ]
    }
   ],
   "source": [
    "metric_bal=pd.Series([metrics.accuracy_score(y_test, predictions),metrics.precision_score(y_test, predictions,average='weighted',labels= [1]),\n",
    "              metrics.recall_score(y_test, predictions,average='weighted',labels= [1]),metrics.f1_score(y_test, predictions,average='weighted',labels= [1])],\n",
    "                     index=['accuracy_score','precision_score','recall_score','f1_score'])\n",
    "print(metric_bal)\n",
    "print()\n",
    "print(metrics.classification_report(y_test, predictions))\n",
    "print()\n",
    "print('Confusion Matrix:')\n",
    "print(metrics.confusion_matrix(y_test, predictions))"
   ]
  },
  {
   "cell_type": "code",
   "execution_count": 42,
   "metadata": {},
   "outputs": [
    {
     "name": "stdout",
     "output_type": "stream",
     "text": [
      "AUC:  0.6545629678285891\n"
     ]
    }
   ],
   "source": [
    "from sklearn.naive_bayes import MultinomialNB\n",
    "model = MultinomialNB().fit(X_train_vectorized, y_train)\n",
    "predictions = model.predict(vect.transform(X_test))\n",
    "print('AUC: ', roc_auc_score(y_test, predictions))"
   ]
  },
  {
   "cell_type": "code",
   "execution_count": 43,
   "metadata": {},
   "outputs": [
    {
     "name": "stdout",
     "output_type": "stream",
     "text": [
      "accuracy_score     0.876000\n",
      "precision_score    0.889129\n",
      "recall_score       0.974929\n",
      "f1_score           0.930054\n",
      "dtype: float64\n",
      "\n",
      "              precision    recall  f1-score   support\n",
      "\n",
      "           0       0.71      0.33      0.45       386\n",
      "           1       0.89      0.97      0.93      2114\n",
      "\n",
      "    accuracy                           0.88      2500\n",
      "   macro avg       0.80      0.65      0.69      2500\n",
      "weighted avg       0.86      0.88      0.86      2500\n",
      "\n",
      "\n",
      "Confusion Matrix:\n",
      "[[ 129  257]\n",
      " [  53 2061]]\n"
     ]
    }
   ],
   "source": [
    "metric_bal=pd.Series([metrics.accuracy_score(y_test, predictions),metrics.precision_score(y_test, predictions,average='weighted',labels= [1]),\n",
    "              metrics.recall_score(y_test, predictions,average='weighted',labels= [1]),metrics.f1_score(y_test, predictions,average='weighted',labels= [1])],\n",
    "                     index=['accuracy_score','precision_score','recall_score','f1_score'])\n",
    "print(metric_bal)\n",
    "print()\n",
    "print(metrics.classification_report(y_test, predictions))\n",
    "print()\n",
    "print('Confusion Matrix:')\n",
    "print(metrics.confusion_matrix(y_test, predictions))"
   ]
  },
  {
   "cell_type": "code",
   "execution_count": 44,
   "metadata": {},
   "outputs": [
    {
     "name": "stdout",
     "output_type": "stream",
     "text": [
      "AUC:  0.5725057720305292\n"
     ]
    }
   ],
   "source": [
    "from sklearn.naive_bayes import BernoulliNB\n",
    "model = BernoulliNB().fit(X_train_vectorized, y_train)\n",
    "predictions = model.predict(vect.transform(X_test))\n",
    "print('AUC: ', roc_auc_score(y_test, predictions))"
   ]
  },
  {
   "cell_type": "code",
   "execution_count": 45,
   "metadata": {},
   "outputs": [
    {
     "name": "stdout",
     "output_type": "stream",
     "text": [
      "accuracy_score     0.857200\n",
      "precision_score    0.865281\n",
      "recall_score       0.984390\n",
      "f1_score           0.921000\n",
      "dtype: float64\n",
      "\n",
      "              precision    recall  f1-score   support\n",
      "\n",
      "           0       0.65      0.16      0.26       386\n",
      "           1       0.87      0.98      0.92      2114\n",
      "\n",
      "    accuracy                           0.86      2500\n",
      "   macro avg       0.76      0.57      0.59      2500\n",
      "weighted avg       0.83      0.86      0.82      2500\n",
      "\n",
      "\n",
      "Confusion Matrix:\n",
      "[[  62  324]\n",
      " [  33 2081]]\n"
     ]
    }
   ],
   "source": [
    "metric_bal=pd.Series([metrics.accuracy_score(y_test, predictions),metrics.precision_score(y_test, predictions,average='weighted',labels= [1]),\n",
    "              metrics.recall_score(y_test, predictions,average='weighted',labels= [1]),metrics.f1_score(y_test, predictions,average='weighted',labels= [1])],\n",
    "                     index=['accuracy_score','precision_score','recall_score','f1_score'])\n",
    "print(metric_bal)\n",
    "print()\n",
    "print(metrics.classification_report(y_test, predictions))\n",
    "print()\n",
    "print('Confusion Matrix:')\n",
    "print(metrics.confusion_matrix(y_test, predictions))"
   ]
  },
  {
   "cell_type": "code",
   "execution_count": 46,
   "metadata": {},
   "outputs": [
    {
     "name": "stdout",
     "output_type": "stream",
     "text": [
      "Smallest Coefs:\n",
      "['gun' 'mega' 'cancelled' 'skimpy' 'skim' 'mention' 'cant' 'signature'\n",
      " 'sickening' 'merchandise']\n",
      "\n",
      "Largest Coefs: \n",
      "['great' 'good' 'the' 'for' 'best' 'and' 'coffee' 'my' 'it' 'love']\n"
     ]
    }
   ],
   "source": [
    "# get the feature names as numpy array\n",
    "feature_names = np.array(vect.get_feature_names())\n",
    "\n",
    "# Sort the coefficients from the model\n",
    "sorted_coef_index = model.coef_[0].argsort()\n",
    "\n",
    "# Find the 10 smallest and 10 largest coefficients\n",
    "# The 10 largest coefficients are being indexed using [:-11:-1] \n",
    "# so the list returned is in order of largest to smallest\n",
    "print('Smallest Coefs:\\n{}\\n'.format(feature_names[sorted_coef_index[:10]]))\n",
    "print('Largest Coefs: \\n{}'.format(feature_names[sorted_coef_index[:-11:-1]]))"
   ]
  },
  {
   "cell_type": "markdown",
   "metadata": {},
   "source": [
    "# Tfidf"
   ]
  },
  {
   "cell_type": "code",
   "execution_count": 47,
   "metadata": {},
   "outputs": [
    {
     "data": {
      "text/plain": [
       "810"
      ]
     },
     "execution_count": 47,
     "metadata": {},
     "output_type": "execute_result"
    }
   ],
   "source": [
    "from sklearn.feature_extraction.text import TfidfVectorizer\n",
    "\n",
    "# Fit the TfidfVectorizer to the training data specifiying a minimum document frequency of 5\n",
    "vect = TfidfVectorizer(min_df=5).fit(X_train)\n",
    "len(vect.get_feature_names())"
   ]
  },
  {
   "cell_type": "code",
   "execution_count": 48,
   "metadata": {},
   "outputs": [
    {
     "name": "stdout",
     "output_type": "stream",
     "text": [
      "AUC:  0.6309086720163137\n"
     ]
    },
    {
     "name": "stderr",
     "output_type": "stream",
     "text": [
      "C:\\ProgramData\\Anaconda3\\lib\\site-packages\\sklearn\\linear_model\\logistic.py:432: FutureWarning: Default solver will be changed to 'lbfgs' in 0.22. Specify a solver to silence this warning.\n",
      "  FutureWarning)\n"
     ]
    }
   ],
   "source": [
    "X_train_vectorized = vect.transform(X_train)\n",
    "\n",
    "model = LogisticRegression()\n",
    "model.fit(X_train_vectorized, y_train)\n",
    "\n",
    "predictions = model.predict(vect.transform(X_test))\n",
    "\n",
    "print('AUC: ', roc_auc_score(y_test, predictions))"
   ]
  },
  {
   "cell_type": "code",
   "execution_count": 49,
   "metadata": {},
   "outputs": [
    {
     "name": "stdout",
     "output_type": "stream",
     "text": [
      "accuracy_score     0.873600\n",
      "precision_score    0.881903\n",
      "recall_score       0.982025\n",
      "f1_score           0.929275\n",
      "dtype: float64\n",
      "\n",
      "              precision    recall  f1-score   support\n",
      "\n",
      "           0       0.74      0.28      0.41       386\n",
      "           1       0.88      0.98      0.93      2114\n",
      "\n",
      "    accuracy                           0.87      2500\n",
      "   macro avg       0.81      0.63      0.67      2500\n",
      "weighted avg       0.86      0.87      0.85      2500\n",
      "\n",
      "\n",
      "Confusion Matrix:\n",
      "[[ 108  278]\n",
      " [  38 2076]]\n"
     ]
    }
   ],
   "source": [
    "metric_bal=pd.Series([metrics.accuracy_score(y_test, predictions),metrics.precision_score(y_test, predictions,average='weighted',labels= [1]),\n",
    "              metrics.recall_score(y_test, predictions,average='weighted',labels= [1]),metrics.f1_score(y_test, predictions,average='weighted',labels= [1])],\n",
    "                     index=['accuracy_score','precision_score','recall_score','f1_score'])\n",
    "print(metric_bal)\n",
    "print()\n",
    "print(metrics.classification_report(y_test, predictions))\n",
    "print()\n",
    "print('Confusion Matrix:')\n",
    "print(metrics.confusion_matrix(y_test, predictions))"
   ]
  },
  {
   "cell_type": "code",
   "execution_count": 50,
   "metadata": {},
   "outputs": [
    {
     "name": "stdout",
     "output_type": "stream",
     "text": [
      "AUC:  0.5970154558065892\n"
     ]
    }
   ],
   "source": [
    "from sklearn.naive_bayes import MultinomialNB\n",
    "model = MultinomialNB().fit(X_train_vectorized, y_train)\n",
    "predictions = model.predict(vect.transform(X_test))\n",
    "print('AUC: ', roc_auc_score(y_test, predictions))"
   ]
  },
  {
   "cell_type": "code",
   "execution_count": 51,
   "metadata": {},
   "outputs": [
    {
     "name": "stdout",
     "output_type": "stream",
     "text": [
      "accuracy_score     0.870000\n",
      "precision_score    0.871933\n",
      "recall_score       0.991958\n",
      "f1_score           0.928081\n",
      "dtype: float64\n",
      "\n",
      "              precision    recall  f1-score   support\n",
      "\n",
      "           0       0.82      0.20      0.32       386\n",
      "           1       0.87      0.99      0.93      2114\n",
      "\n",
      "    accuracy                           0.87      2500\n",
      "   macro avg       0.85      0.60      0.63      2500\n",
      "weighted avg       0.86      0.87      0.83      2500\n",
      "\n",
      "\n",
      "Confusion Matrix:\n",
      "[[  78  308]\n",
      " [  17 2097]]\n"
     ]
    }
   ],
   "source": [
    "metric_bal=pd.Series([metrics.accuracy_score(y_test, predictions),metrics.precision_score(y_test, predictions,average='weighted',labels= [1]),\n",
    "              metrics.recall_score(y_test, predictions,average='weighted',labels= [1]),metrics.f1_score(y_test, predictions,average='weighted',labels= [1])],\n",
    "                     index=['accuracy_score','precision_score','recall_score','f1_score'])\n",
    "print(metric_bal)\n",
    "print()\n",
    "print(metrics.classification_report(y_test, predictions))\n",
    "print()\n",
    "print('Confusion Matrix:')\n",
    "print(metrics.confusion_matrix(y_test, predictions))"
   ]
  },
  {
   "cell_type": "code",
   "execution_count": 52,
   "metadata": {},
   "outputs": [
    {
     "name": "stdout",
     "output_type": "stream",
     "text": [
      "AUC:  0.6826669967304082\n"
     ]
    }
   ],
   "source": [
    "from sklearn.naive_bayes import BernoulliNB\n",
    "model = BernoulliNB().fit(X_train_vectorized, y_train)\n",
    "predictions = model.predict(vect.transform(X_test))\n",
    "print('AUC: ', roc_auc_score(y_test, predictions))"
   ]
  },
  {
   "cell_type": "code",
   "execution_count": 53,
   "metadata": {},
   "outputs": [
    {
     "name": "stdout",
     "output_type": "stream",
     "text": [
      "accuracy_score     0.871600\n",
      "precision_score    0.898622\n",
      "recall_score       0.956008\n",
      "f1_score           0.926427\n",
      "dtype: float64\n",
      "\n",
      "              precision    recall  f1-score   support\n",
      "\n",
      "           0       0.63      0.41      0.50       386\n",
      "           1       0.90      0.96      0.93      2114\n",
      "\n",
      "    accuracy                           0.87      2500\n",
      "   macro avg       0.76      0.68      0.71      2500\n",
      "weighted avg       0.86      0.87      0.86      2500\n",
      "\n",
      "\n",
      "Confusion Matrix:\n",
      "[[ 158  228]\n",
      " [  93 2021]]\n"
     ]
    }
   ],
   "source": [
    "metric_bal=pd.Series([metrics.accuracy_score(y_test, predictions),metrics.precision_score(y_test, predictions,average='weighted',labels= [1]),\n",
    "              metrics.recall_score(y_test, predictions,average='weighted',labels= [1]),metrics.f1_score(y_test, predictions,average='weighted',labels= [1])],\n",
    "                     index=['accuracy_score','precision_score','recall_score','f1_score'])\n",
    "print(metric_bal)\n",
    "print()\n",
    "print(metrics.classification_report(y_test, predictions))\n",
    "print()\n",
    "print('Confusion Matrix:')\n",
    "print(metrics.confusion_matrix(y_test, predictions))"
   ]
  },
  {
   "cell_type": "code",
   "execution_count": 54,
   "metadata": {},
   "outputs": [
    {
     "name": "stdout",
     "output_type": "stream",
     "text": [
      "Smallest tfidf:\n",
      "['ounce' 'wheat' 'dairy' 'getting' 'ate' 'products' 'teeth' 'being' 'feel'\n",
      " 'once']\n",
      "\n",
      "Largest tfidf: \n",
      "['yummy' 'horrible' 'house' 'huge' 'in' 'interesting' 'is' 'island' 'it'\n",
      " 'its']\n"
     ]
    }
   ],
   "source": [
    "feature_names = np.array(vect.get_feature_names())\n",
    "\n",
    "sorted_tfidf_index = X_train_vectorized.max(0).toarray()[0].argsort()\n",
    "\n",
    "print('Smallest tfidf:\\n{}\\n'.format(feature_names[sorted_tfidf_index[:10]]))\n",
    "print('Largest tfidf: \\n{}'.format(feature_names[sorted_tfidf_index[:-11:-1]]))"
   ]
  },
  {
   "cell_type": "code",
   "execution_count": 55,
   "metadata": {},
   "outputs": [
    {
     "name": "stdout",
     "output_type": "stream",
     "text": [
      "Smallest Coefs:\n",
      "['waste' 'disgusting' 'disapointed' 'nasty' 'control' 'warning' 'yuck'\n",
      " 'yuk' 'horrible' 'sorry']\n",
      "\n",
      "Largest Coefs: \n",
      "['great' 'good' 'the' 'for' 'best' 'and' 'coffee' 'my' 'it' 'love']\n"
     ]
    }
   ],
   "source": [
    "sorted_coef_index = model.coef_[0].argsort()\n",
    "\n",
    "print('Smallest Coefs:\\n{}\\n'.format(feature_names[sorted_coef_index[:10]]))\n",
    "print('Largest Coefs: \\n{}'.format(feature_names[sorted_coef_index[:-11:-1]]))"
   ]
  },
  {
   "cell_type": "markdown",
   "metadata": {},
   "source": [
    "# n-grams"
   ]
  },
  {
   "cell_type": "code",
   "execution_count": 56,
   "metadata": {},
   "outputs": [
    {
     "data": {
      "text/plain": [
       "1347"
      ]
     },
     "execution_count": 56,
     "metadata": {},
     "output_type": "execute_result"
    }
   ],
   "source": [
    "# Fit the CountVectorizer to the training data specifiying a minimum \n",
    "# document frequency of 5 and extracting 1-grams and 2-grams\n",
    "vect = CountVectorizer(min_df=5, ngram_range=(1,2)).fit(X_train)\n",
    "\n",
    "X_train_vectorized = vect.transform(X_train)\n",
    "\n",
    "len(vect.get_feature_names())"
   ]
  },
  {
   "cell_type": "code",
   "execution_count": 57,
   "metadata": {},
   "outputs": [
    {
     "name": "stdout",
     "output_type": "stream",
     "text": [
      "AUC:  0.6876559428630251\n"
     ]
    },
    {
     "name": "stderr",
     "output_type": "stream",
     "text": [
      "C:\\ProgramData\\Anaconda3\\lib\\site-packages\\sklearn\\linear_model\\logistic.py:432: FutureWarning: Default solver will be changed to 'lbfgs' in 0.22. Specify a solver to silence this warning.\n",
      "  FutureWarning)\n"
     ]
    }
   ],
   "source": [
    "model = LogisticRegression()\n",
    "model.fit(X_train_vectorized, y_train)\n",
    "\n",
    "predictions = model.predict(vect.transform(X_test))\n",
    "\n",
    "print('AUC: ', roc_auc_score(y_test, predictions))"
   ]
  },
  {
   "cell_type": "code",
   "execution_count": 58,
   "metadata": {},
   "outputs": [
    {
     "name": "stdout",
     "output_type": "stream",
     "text": [
      "accuracy_score     0.887200\n",
      "precision_score    0.898955\n",
      "recall_score       0.976348\n",
      "f1_score           0.936054\n",
      "dtype: float64\n",
      "\n",
      "              precision    recall  f1-score   support\n",
      "\n",
      "           0       0.75      0.40      0.52       386\n",
      "           1       0.90      0.98      0.94      2114\n",
      "\n",
      "    accuracy                           0.89      2500\n",
      "   macro avg       0.83      0.69      0.73      2500\n",
      "weighted avg       0.88      0.89      0.87      2500\n",
      "\n",
      "\n",
      "Confusion Matrix:\n",
      "[[ 154  232]\n",
      " [  50 2064]]\n"
     ]
    }
   ],
   "source": [
    "metric_bal=pd.Series([metrics.accuracy_score(y_test, predictions),metrics.precision_score(y_test, predictions,average='weighted',labels= [1]),\n",
    "              metrics.recall_score(y_test, predictions,average='weighted',labels= [1]),metrics.f1_score(y_test, predictions,average='weighted',labels= [1])],\n",
    "                     index=['accuracy_score','precision_score','recall_score','f1_score'])\n",
    "print(metric_bal)\n",
    "print()\n",
    "print(metrics.classification_report(y_test, predictions))\n",
    "print()\n",
    "print('Confusion Matrix:')\n",
    "print(metrics.confusion_matrix(y_test, predictions))"
   ]
  },
  {
   "cell_type": "code",
   "execution_count": 59,
   "metadata": {},
   "outputs": [
    {
     "name": "stdout",
     "output_type": "stream",
     "text": [
      "AUC:  0.7277452071313376\n"
     ]
    }
   ],
   "source": [
    "from sklearn.naive_bayes import MultinomialNB\n",
    "model = MultinomialNB().fit(X_train_vectorized, y_train)\n",
    "predictions = model.predict(vect.transform(X_test))\n",
    "print('AUC: ', roc_auc_score(y_test, predictions))"
   ]
  },
  {
   "cell_type": "code",
   "execution_count": 60,
   "metadata": {},
   "outputs": [
    {
     "name": "stdout",
     "output_type": "stream",
     "text": [
      "accuracy_score     0.878000\n",
      "precision_score    0.913580\n",
      "recall_score       0.945128\n",
      "f1_score           0.929086\n",
      "dtype: float64\n",
      "\n",
      "              precision    recall  f1-score   support\n",
      "\n",
      "           0       0.63      0.51      0.56       386\n",
      "           1       0.91      0.95      0.93      2114\n",
      "\n",
      "    accuracy                           0.88      2500\n",
      "   macro avg       0.77      0.73      0.75      2500\n",
      "weighted avg       0.87      0.88      0.87      2500\n",
      "\n",
      "\n",
      "Confusion Matrix:\n",
      "[[ 197  189]\n",
      " [ 116 1998]]\n"
     ]
    }
   ],
   "source": [
    "metric_bal=pd.Series([metrics.accuracy_score(y_test, predictions),metrics.precision_score(y_test, predictions,average='weighted',labels= [1]),\n",
    "              metrics.recall_score(y_test, predictions,average='weighted',labels= [1]),metrics.f1_score(y_test, predictions,average='weighted',labels= [1])],\n",
    "                     index=['accuracy_score','precision_score','recall_score','f1_score'])\n",
    "print(metric_bal)\n",
    "print()\n",
    "print(metrics.classification_report(y_test, predictions))\n",
    "print()\n",
    "print('Confusion Matrix:')\n",
    "print(metrics.confusion_matrix(y_test, predictions))"
   ]
  },
  {
   "cell_type": "code",
   "execution_count": 61,
   "metadata": {},
   "outputs": [
    {
     "name": "stdout",
     "output_type": "stream",
     "text": [
      "AUC:  0.7058372262881064\n"
     ]
    }
   ],
   "source": [
    "from sklearn.naive_bayes import BernoulliNB\n",
    "model = BernoulliNB().fit(X_train_vectorized, y_train)\n",
    "predictions = model.predict(vect.transform(X_test))\n",
    "print('AUC: ', roc_auc_score(y_test, predictions))"
   ]
  },
  {
   "cell_type": "code",
   "execution_count": 62,
   "metadata": {},
   "outputs": [
    {
     "name": "stdout",
     "output_type": "stream",
     "text": [
      "accuracy_score     0.869600\n",
      "precision_score    0.906733\n",
      "recall_score       0.942763\n",
      "f1_score           0.924397\n",
      "dtype: float64\n",
      "\n",
      "              precision    recall  f1-score   support\n",
      "\n",
      "           0       0.60      0.47      0.53       386\n",
      "           1       0.91      0.94      0.92      2114\n",
      "\n",
      "    accuracy                           0.87      2500\n",
      "   macro avg       0.75      0.71      0.73      2500\n",
      "weighted avg       0.86      0.87      0.86      2500\n",
      "\n",
      "\n",
      "Confusion Matrix:\n",
      "[[ 181  205]\n",
      " [ 121 1993]]\n"
     ]
    }
   ],
   "source": [
    "metric_bal=pd.Series([metrics.accuracy_score(y_test, predictions),metrics.precision_score(y_test, predictions,average='weighted',labels= [1]),\n",
    "              metrics.recall_score(y_test, predictions,average='weighted',labels= [1]),metrics.f1_score(y_test, predictions,average='weighted',labels= [1])],\n",
    "                     index=['accuracy_score','precision_score','recall_score','f1_score'])\n",
    "print(metric_bal)\n",
    "print()\n",
    "print(metrics.classification_report(y_test, predictions))\n",
    "print()\n",
    "print('Confusion Matrix:')\n",
    "print(metrics.confusion_matrix(y_test, predictions))"
   ]
  },
  {
   "cell_type": "code",
   "execution_count": 63,
   "metadata": {},
   "outputs": [
    {
     "name": "stdout",
     "output_type": "stream",
     "text": [
      "Smallest Coefs:\n",
      "['disapointed' 'what happened' 'not good' 'don waste' 'warning'\n",
      " 'poor quality' 'disgusting' 'nasty' 'of money' 'bad batch']\n",
      "\n",
      "Largest Coefs: \n",
      "['great' 'good' 'the' 'for' 'best' 'and' 'coffee' 'my' 'it' 'love']\n"
     ]
    }
   ],
   "source": [
    "feature_names = np.array(vect.get_feature_names())\n",
    "\n",
    "sorted_coef_index = model.coef_[0].argsort()\n",
    "\n",
    "print('Smallest Coefs:\\n{}\\n'.format(feature_names[sorted_coef_index[:10]]))\n",
    "print('Largest Coefs: \\n{}'.format(feature_names[sorted_coef_index[:-11:-1]]))"
   ]
  },
  {
   "cell_type": "code",
   "execution_count": null,
   "metadata": {},
   "outputs": [],
   "source": []
  }
 ],
 "metadata": {
  "kernelspec": {
   "display_name": "Python 3",
   "language": "python",
   "name": "python3"
  },
  "language_info": {
   "codemirror_mode": {
    "name": "ipython",
    "version": 3
   },
   "file_extension": ".py",
   "mimetype": "text/x-python",
   "name": "python",
   "nbconvert_exporter": "python",
   "pygments_lexer": "ipython3",
   "version": "3.7.4"
  }
 },
 "nbformat": 4,
 "nbformat_minor": 2
}
